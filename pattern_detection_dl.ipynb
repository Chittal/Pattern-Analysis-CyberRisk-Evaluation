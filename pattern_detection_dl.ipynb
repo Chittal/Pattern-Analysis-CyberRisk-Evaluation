{
 "cells": [
  {
   "cell_type": "markdown",
   "metadata": {},
   "source": [
    "Install Necessary Packages"
   ]
  },
  {
   "cell_type": "code",
   "execution_count": 1,
   "metadata": {},
   "outputs": [
    {
     "name": "stdout",
     "output_type": "stream",
     "text": [
      "Requirement already satisfied: matplotlib in c:\\users\\chitt\\downloads\\deep learning\\.venv\\lib\\site-packages (3.9.0)\n",
      "Requirement already satisfied: contourpy>=1.0.1 in c:\\users\\chitt\\downloads\\deep learning\\.venv\\lib\\site-packages (from matplotlib) (1.2.1)\n",
      "Requirement already satisfied: cycler>=0.10 in c:\\users\\chitt\\downloads\\deep learning\\.venv\\lib\\site-packages (from matplotlib) (0.12.1)\n",
      "Requirement already satisfied: fonttools>=4.22.0 in c:\\users\\chitt\\downloads\\deep learning\\.venv\\lib\\site-packages (from matplotlib) (4.53.0)\n",
      "Requirement already satisfied: kiwisolver>=1.3.1 in c:\\users\\chitt\\downloads\\deep learning\\.venv\\lib\\site-packages (from matplotlib) (1.4.5)\n",
      "Requirement already satisfied: numpy>=1.23 in c:\\users\\chitt\\downloads\\deep learning\\.venv\\lib\\site-packages (from matplotlib) (1.26.4)\n",
      "Requirement already satisfied: packaging>=20.0 in c:\\users\\chitt\\downloads\\deep learning\\.venv\\lib\\site-packages (from matplotlib) (24.1)\n",
      "Requirement already satisfied: pillow>=8 in c:\\users\\chitt\\downloads\\deep learning\\.venv\\lib\\site-packages (from matplotlib) (10.4.0)\n",
      "Requirement already satisfied: pyparsing>=2.3.1 in c:\\users\\chitt\\downloads\\deep learning\\.venv\\lib\\site-packages (from matplotlib) (3.1.2)\n",
      "Requirement already satisfied: python-dateutil>=2.7 in c:\\users\\chitt\\downloads\\deep learning\\.venv\\lib\\site-packages (from matplotlib) (2.9.0.post0)\n",
      "Requirement already satisfied: six>=1.5 in c:\\users\\chitt\\downloads\\deep learning\\.venv\\lib\\site-packages (from python-dateutil>=2.7->matplotlib) (1.16.0)\n",
      "Note: you may need to restart the kernel to use updated packages.\n"
     ]
    },
    {
     "name": "stderr",
     "output_type": "stream",
     "text": [
      "\n",
      "[notice] A new release of pip is available: 24.1.1 -> 24.2\n",
      "[notice] To update, run: python.exe -m pip install --upgrade pip\n"
     ]
    },
    {
     "name": "stdout",
     "output_type": "stream",
     "text": [
      "Requirement already satisfied: pandas in c:\\users\\chitt\\downloads\\deep learning\\.venv\\lib\\site-packages (2.2.2)\n",
      "Requirement already satisfied: numpy>=1.23.2 in c:\\users\\chitt\\downloads\\deep learning\\.venv\\lib\\site-packages (from pandas) (1.26.4)\n",
      "Requirement already satisfied: python-dateutil>=2.8.2 in c:\\users\\chitt\\downloads\\deep learning\\.venv\\lib\\site-packages (from pandas) (2.9.0.post0)\n",
      "Requirement already satisfied: pytz>=2020.1 in c:\\users\\chitt\\downloads\\deep learning\\.venv\\lib\\site-packages (from pandas) (2024.1)\n",
      "Requirement already satisfied: tzdata>=2022.7 in c:\\users\\chitt\\downloads\\deep learning\\.venv\\lib\\site-packages (from pandas) (2024.1)\n",
      "Requirement already satisfied: six>=1.5 in c:\\users\\chitt\\downloads\\deep learning\\.venv\\lib\\site-packages (from python-dateutil>=2.8.2->pandas) (1.16.0)\n",
      "Note: you may need to restart the kernel to use updated packages.\n"
     ]
    },
    {
     "name": "stderr",
     "output_type": "stream",
     "text": [
      "\n",
      "[notice] A new release of pip is available: 24.1.1 -> 24.2\n",
      "[notice] To update, run: python.exe -m pip install --upgrade pip\n"
     ]
    },
    {
     "name": "stdout",
     "output_type": "stream",
     "text": [
      "Requirement already satisfied: scikit-learn in c:\\users\\chitt\\downloads\\deep learning\\.venv\\lib\\site-packages (1.5.0)\n",
      "Requirement already satisfied: numpy>=1.19.5 in c:\\users\\chitt\\downloads\\deep learning\\.venv\\lib\\site-packages (from scikit-learn) (1.26.4)\n",
      "Requirement already satisfied: scipy>=1.6.0 in c:\\users\\chitt\\downloads\\deep learning\\.venv\\lib\\site-packages (from scikit-learn) (1.14.0)\n",
      "Requirement already satisfied: joblib>=1.2.0 in c:\\users\\chitt\\downloads\\deep learning\\.venv\\lib\\site-packages (from scikit-learn) (1.4.2)\n",
      "Requirement already satisfied: threadpoolctl>=3.1.0 in c:\\users\\chitt\\downloads\\deep learning\\.venv\\lib\\site-packages (from scikit-learn) (3.5.0)\n",
      "Note: you may need to restart the kernel to use updated packages.\n"
     ]
    },
    {
     "name": "stderr",
     "output_type": "stream",
     "text": [
      "\n",
      "[notice] A new release of pip is available: 24.1.1 -> 24.2\n",
      "[notice] To update, run: python.exe -m pip install --upgrade pip\n"
     ]
    },
    {
     "name": "stdout",
     "output_type": "stream",
     "text": [
      "Requirement already satisfied: setuptools in c:\\users\\chitt\\downloads\\deep learning\\.venv\\lib\\site-packages (65.5.0)\n",
      "Note: you may need to restart the kernel to use updated packages.\n"
     ]
    },
    {
     "name": "stderr",
     "output_type": "stream",
     "text": [
      "\n",
      "[notice] A new release of pip is available: 24.1.1 -> 24.2\n",
      "[notice] To update, run: python.exe -m pip install --upgrade pip\n"
     ]
    },
    {
     "name": "stdout",
     "output_type": "stream",
     "text": [
      "Requirement already satisfied: distlib in c:\\users\\chitt\\downloads\\deep learning\\.venv\\lib\\site-packages (0.3.8)\n",
      "Note: you may need to restart the kernel to use updated packages.\n"
     ]
    },
    {
     "name": "stderr",
     "output_type": "stream",
     "text": [
      "\n",
      "[notice] A new release of pip is available: 24.1.1 -> 24.2\n",
      "[notice] To update, run: python.exe -m pip install --upgrade pip\n"
     ]
    },
    {
     "name": "stdout",
     "output_type": "stream",
     "text": [
      "Requirement already satisfied: tensorflow in c:\\users\\chitt\\downloads\\deep learning\\.venv\\lib\\site-packages (2.16.2)\n",
      "Requirement already satisfied: tensorflow-intel==2.16.2 in c:\\users\\chitt\\downloads\\deep learning\\.venv\\lib\\site-packages (from tensorflow) (2.16.2)\n",
      "Requirement already satisfied: absl-py>=1.0.0 in c:\\users\\chitt\\downloads\\deep learning\\.venv\\lib\\site-packages (from tensorflow-intel==2.16.2->tensorflow) (2.1.0)\n",
      "Requirement already satisfied: astunparse>=1.6.0 in c:\\users\\chitt\\downloads\\deep learning\\.venv\\lib\\site-packages (from tensorflow-intel==2.16.2->tensorflow) (1.6.3)\n",
      "Requirement already satisfied: flatbuffers>=23.5.26 in c:\\users\\chitt\\downloads\\deep learning\\.venv\\lib\\site-packages (from tensorflow-intel==2.16.2->tensorflow) (24.3.25)\n",
      "Requirement already satisfied: gast!=0.5.0,!=0.5.1,!=0.5.2,>=0.2.1 in c:\\users\\chitt\\downloads\\deep learning\\.venv\\lib\\site-packages (from tensorflow-intel==2.16.2->tensorflow) (0.6.0)\n",
      "Requirement already satisfied: google-pasta>=0.1.1 in c:\\users\\chitt\\downloads\\deep learning\\.venv\\lib\\site-packages (from tensorflow-intel==2.16.2->tensorflow) (0.2.0)\n",
      "Requirement already satisfied: h5py>=3.10.0 in c:\\users\\chitt\\downloads\\deep learning\\.venv\\lib\\site-packages (from tensorflow-intel==2.16.2->tensorflow) (3.11.0)\n",
      "Requirement already satisfied: libclang>=13.0.0 in c:\\users\\chitt\\downloads\\deep learning\\.venv\\lib\\site-packages (from tensorflow-intel==2.16.2->tensorflow) (18.1.1)\n",
      "Requirement already satisfied: ml-dtypes~=0.3.1 in c:\\users\\chitt\\downloads\\deep learning\\.venv\\lib\\site-packages (from tensorflow-intel==2.16.2->tensorflow) (0.3.2)\n",
      "Requirement already satisfied: opt-einsum>=2.3.2 in c:\\users\\chitt\\downloads\\deep learning\\.venv\\lib\\site-packages (from tensorflow-intel==2.16.2->tensorflow) (3.3.0)\n",
      "Requirement already satisfied: packaging in c:\\users\\chitt\\downloads\\deep learning\\.venv\\lib\\site-packages (from tensorflow-intel==2.16.2->tensorflow) (24.1)\n",
      "Requirement already satisfied: protobuf!=4.21.0,!=4.21.1,!=4.21.2,!=4.21.3,!=4.21.4,!=4.21.5,<5.0.0dev,>=3.20.3 in c:\\users\\chitt\\downloads\\deep learning\\.venv\\lib\\site-packages (from tensorflow-intel==2.16.2->tensorflow) (4.25.3)\n",
      "Requirement already satisfied: requests<3,>=2.21.0 in c:\\users\\chitt\\downloads\\deep learning\\.venv\\lib\\site-packages (from tensorflow-intel==2.16.2->tensorflow) (2.32.3)\n",
      "Requirement already satisfied: setuptools in c:\\users\\chitt\\downloads\\deep learning\\.venv\\lib\\site-packages (from tensorflow-intel==2.16.2->tensorflow) (65.5.0)\n",
      "Requirement already satisfied: six>=1.12.0 in c:\\users\\chitt\\downloads\\deep learning\\.venv\\lib\\site-packages (from tensorflow-intel==2.16.2->tensorflow) (1.16.0)\n",
      "Requirement already satisfied: termcolor>=1.1.0 in c:\\users\\chitt\\downloads\\deep learning\\.venv\\lib\\site-packages (from tensorflow-intel==2.16.2->tensorflow) (2.4.0)\n",
      "Requirement already satisfied: typing-extensions>=3.6.6 in c:\\users\\chitt\\downloads\\deep learning\\.venv\\lib\\site-packages (from tensorflow-intel==2.16.2->tensorflow) (4.12.2)\n",
      "Requirement already satisfied: wrapt>=1.11.0 in c:\\users\\chitt\\downloads\\deep learning\\.venv\\lib\\site-packages (from tensorflow-intel==2.16.2->tensorflow) (1.16.0)\n",
      "Requirement already satisfied: grpcio<2.0,>=1.24.3 in c:\\users\\chitt\\downloads\\deep learning\\.venv\\lib\\site-packages (from tensorflow-intel==2.16.2->tensorflow) (1.64.1)\n",
      "Requirement already satisfied: tensorboard<2.17,>=2.16 in c:\\users\\chitt\\downloads\\deep learning\\.venv\\lib\\site-packages (from tensorflow-intel==2.16.2->tensorflow) (2.16.2)\n",
      "Requirement already satisfied: keras>=3.0.0 in c:\\users\\chitt\\downloads\\deep learning\\.venv\\lib\\site-packages (from tensorflow-intel==2.16.2->tensorflow) (3.4.1)\n",
      "Requirement already satisfied: tensorflow-io-gcs-filesystem>=0.23.1 in c:\\users\\chitt\\downloads\\deep learning\\.venv\\lib\\site-packages (from tensorflow-intel==2.16.2->tensorflow) (0.31.0)\n",
      "Requirement already satisfied: numpy<2.0.0,>=1.23.5 in c:\\users\\chitt\\downloads\\deep learning\\.venv\\lib\\site-packages (from tensorflow-intel==2.16.2->tensorflow) (1.26.4)\n",
      "Requirement already satisfied: wheel<1.0,>=0.23.0 in c:\\users\\chitt\\downloads\\deep learning\\.venv\\lib\\site-packages (from astunparse>=1.6.0->tensorflow-intel==2.16.2->tensorflow) (0.43.0)\n",
      "Requirement already satisfied: rich in c:\\users\\chitt\\downloads\\deep learning\\.venv\\lib\\site-packages (from keras>=3.0.0->tensorflow-intel==2.16.2->tensorflow) (13.7.1)\n",
      "Requirement already satisfied: namex in c:\\users\\chitt\\downloads\\deep learning\\.venv\\lib\\site-packages (from keras>=3.0.0->tensorflow-intel==2.16.2->tensorflow) (0.0.8)\n",
      "Requirement already satisfied: optree in c:\\users\\chitt\\downloads\\deep learning\\.venv\\lib\\site-packages (from keras>=3.0.0->tensorflow-intel==2.16.2->tensorflow) (0.11.0)\n",
      "Requirement already satisfied: charset-normalizer<4,>=2 in c:\\users\\chitt\\downloads\\deep learning\\.venv\\lib\\site-packages (from requests<3,>=2.21.0->tensorflow-intel==2.16.2->tensorflow) (3.3.2)\n",
      "Requirement already satisfied: idna<4,>=2.5 in c:\\users\\chitt\\downloads\\deep learning\\.venv\\lib\\site-packages (from requests<3,>=2.21.0->tensorflow-intel==2.16.2->tensorflow) (3.7)\n",
      "Requirement already satisfied: urllib3<3,>=1.21.1 in c:\\users\\chitt\\downloads\\deep learning\\.venv\\lib\\site-packages (from requests<3,>=2.21.0->tensorflow-intel==2.16.2->tensorflow) (2.2.2)\n",
      "Requirement already satisfied: certifi>=2017.4.17 in c:\\users\\chitt\\downloads\\deep learning\\.venv\\lib\\site-packages (from requests<3,>=2.21.0->tensorflow-intel==2.16.2->tensorflow) (2024.6.2)\n",
      "Requirement already satisfied: markdown>=2.6.8 in c:\\users\\chitt\\downloads\\deep learning\\.venv\\lib\\site-packages (from tensorboard<2.17,>=2.16->tensorflow-intel==2.16.2->tensorflow) (3.6)\n",
      "Requirement already satisfied: tensorboard-data-server<0.8.0,>=0.7.0 in c:\\users\\chitt\\downloads\\deep learning\\.venv\\lib\\site-packages (from tensorboard<2.17,>=2.16->tensorflow-intel==2.16.2->tensorflow) (0.7.2)\n",
      "Requirement already satisfied: werkzeug>=1.0.1 in c:\\users\\chitt\\downloads\\deep learning\\.venv\\lib\\site-packages (from tensorboard<2.17,>=2.16->tensorflow-intel==2.16.2->tensorflow) (3.0.3)\n",
      "Requirement already satisfied: MarkupSafe>=2.1.1 in c:\\users\\chitt\\downloads\\deep learning\\.venv\\lib\\site-packages (from werkzeug>=1.0.1->tensorboard<2.17,>=2.16->tensorflow-intel==2.16.2->tensorflow) (2.1.5)\n",
      "Requirement already satisfied: markdown-it-py>=2.2.0 in c:\\users\\chitt\\downloads\\deep learning\\.venv\\lib\\site-packages (from rich->keras>=3.0.0->tensorflow-intel==2.16.2->tensorflow) (3.0.0)\n",
      "Requirement already satisfied: pygments<3.0.0,>=2.13.0 in c:\\users\\chitt\\downloads\\deep learning\\.venv\\lib\\site-packages (from rich->keras>=3.0.0->tensorflow-intel==2.16.2->tensorflow) (2.18.0)\n",
      "Requirement already satisfied: mdurl~=0.1 in c:\\users\\chitt\\downloads\\deep learning\\.venv\\lib\\site-packages (from markdown-it-py>=2.2.0->rich->keras>=3.0.0->tensorflow-intel==2.16.2->tensorflow) (0.1.2)\n",
      "Note: you may need to restart the kernel to use updated packages.\n"
     ]
    },
    {
     "name": "stderr",
     "output_type": "stream",
     "text": [
      "\n",
      "[notice] A new release of pip is available: 24.1.1 -> 24.2\n",
      "[notice] To update, run: python.exe -m pip install --upgrade pip\n"
     ]
    },
    {
     "name": "stdout",
     "output_type": "stream",
     "text": [
      "Requirement already satisfied: openpyxl in c:\\users\\chitt\\downloads\\deep learning\\.venv\\lib\\site-packages (3.1.5)\n",
      "Requirement already satisfied: et-xmlfile in c:\\users\\chitt\\downloads\\deep learning\\.venv\\lib\\site-packages (from openpyxl) (1.1.0)\n",
      "Note: you may need to restart the kernel to use updated packages.\n"
     ]
    },
    {
     "name": "stderr",
     "output_type": "stream",
     "text": [
      "\n",
      "[notice] A new release of pip is available: 24.1.1 -> 24.2\n",
      "[notice] To update, run: python.exe -m pip install --upgrade pip\n"
     ]
    },
    {
     "name": "stdout",
     "output_type": "stream",
     "text": [
      "Note: you may need to restart the kernel to use updated packages.\n"
     ]
    },
    {
     "name": "stderr",
     "output_type": "stream",
     "text": [
      "\n",
      "[notice] A new release of pip is available: 24.1.1 -> 24.2\n",
      "[notice] To update, run: python.exe -m pip install --upgrade pip\n"
     ]
    },
    {
     "name": "stdout",
     "output_type": "stream",
     "text": [
      "Requirement already satisfied: seaborn in c:\\users\\chitt\\downloads\\deep learning\\.venv\\lib\\site-packages (0.13.2)\n",
      "Requirement already satisfied: numpy!=1.24.0,>=1.20 in c:\\users\\chitt\\downloads\\deep learning\\.venv\\lib\\site-packages (from seaborn) (1.26.4)\n",
      "Requirement already satisfied: pandas>=1.2 in c:\\users\\chitt\\downloads\\deep learning\\.venv\\lib\\site-packages (from seaborn) (2.2.2)\n",
      "Requirement already satisfied: matplotlib!=3.6.1,>=3.4 in c:\\users\\chitt\\downloads\\deep learning\\.venv\\lib\\site-packages (from seaborn) (3.9.0)\n",
      "Requirement already satisfied: contourpy>=1.0.1 in c:\\users\\chitt\\downloads\\deep learning\\.venv\\lib\\site-packages (from matplotlib!=3.6.1,>=3.4->seaborn) (1.2.1)\n",
      "Requirement already satisfied: cycler>=0.10 in c:\\users\\chitt\\downloads\\deep learning\\.venv\\lib\\site-packages (from matplotlib!=3.6.1,>=3.4->seaborn) (0.12.1)\n",
      "Requirement already satisfied: fonttools>=4.22.0 in c:\\users\\chitt\\downloads\\deep learning\\.venv\\lib\\site-packages (from matplotlib!=3.6.1,>=3.4->seaborn) (4.53.0)\n",
      "Requirement already satisfied: kiwisolver>=1.3.1 in c:\\users\\chitt\\downloads\\deep learning\\.venv\\lib\\site-packages (from matplotlib!=3.6.1,>=3.4->seaborn) (1.4.5)\n",
      "Requirement already satisfied: packaging>=20.0 in c:\\users\\chitt\\downloads\\deep learning\\.venv\\lib\\site-packages (from matplotlib!=3.6.1,>=3.4->seaborn) (24.1)\n",
      "Requirement already satisfied: pillow>=8 in c:\\users\\chitt\\downloads\\deep learning\\.venv\\lib\\site-packages (from matplotlib!=3.6.1,>=3.4->seaborn) (10.4.0)\n",
      "Requirement already satisfied: pyparsing>=2.3.1 in c:\\users\\chitt\\downloads\\deep learning\\.venv\\lib\\site-packages (from matplotlib!=3.6.1,>=3.4->seaborn) (3.1.2)\n",
      "Requirement already satisfied: python-dateutil>=2.7 in c:\\users\\chitt\\downloads\\deep learning\\.venv\\lib\\site-packages (from matplotlib!=3.6.1,>=3.4->seaborn) (2.9.0.post0)\n",
      "Requirement already satisfied: pytz>=2020.1 in c:\\users\\chitt\\downloads\\deep learning\\.venv\\lib\\site-packages (from pandas>=1.2->seaborn) (2024.1)\n",
      "Requirement already satisfied: tzdata>=2022.7 in c:\\users\\chitt\\downloads\\deep learning\\.venv\\lib\\site-packages (from pandas>=1.2->seaborn) (2024.1)\n",
      "Requirement already satisfied: six>=1.5 in c:\\users\\chitt\\downloads\\deep learning\\.venv\\lib\\site-packages (from python-dateutil>=2.7->matplotlib!=3.6.1,>=3.4->seaborn) (1.16.0)\n"
     ]
    }
   ],
   "source": [
    "%pip install matplotlib\n",
    "%pip install pandas\n",
    "%pip install scikit-learn\n",
    "%pip install setuptools\n",
    "%pip install distlib\n",
    "%pip install tensorflow\n",
    "%pip install openpyxl\n",
    "%pip install seaborn"
   ]
  },
  {
   "cell_type": "markdown",
   "metadata": {},
   "source": [
    "Import all necessary packages"
   ]
  },
  {
   "cell_type": "code",
   "execution_count": 2,
   "metadata": {},
   "outputs": [],
   "source": [
    "import numpy as np\n",
    "import pandas as pd\n",
    "import seaborn as sns\n",
    "import matplotlib.pyplot as plt\n",
    "\n",
    "from sklearn.model_selection import learning_curve\n",
    "from sklearn.linear_model import LogisticRegression\n",
    "from sklearn.model_selection import train_test_split\n",
    "from sklearn.preprocessing import StandardScaler\n",
    "from sklearn.tree import DecisionTreeClassifier\n",
    "from sklearn.metrics import accuracy_score, confusion_matrix\n",
    "from sklearn.ensemble import RandomForestClassifier\n",
    "\n",
    "from tensorflow.keras.models import Sequential\n",
    "from tensorflow.keras.layers import Dense\n",
    "from tensorflow.keras.optimizers import Adam\n",
    "from tensorflow.keras.losses import BinaryCrossentropy\n",
    "from tensorflow.keras.callbacks import EarlyStopping"
   ]
  },
  {
   "cell_type": "markdown",
   "metadata": {},
   "source": [
    "Load user activity log data"
   ]
  },
  {
   "cell_type": "code",
   "execution_count": 3,
   "metadata": {},
   "outputs": [
    {
     "data": {
      "text/plain": [
       "Index(['Time Stamp', 'Source User', 'Target User ', 'Source System',\n",
       "       'Data Classification ', 'Authentication Type', 'Server Type',\n",
       "       'Login Result ', 'Anomalous', 'Comments'],\n",
       "      dtype='object')"
      ]
     },
     "execution_count": 3,
     "metadata": {},
     "output_type": "execute_result"
    }
   ],
   "source": [
    "# create pandas dataframe for user log csv file\n",
    "log_df = pd.read_excel('user_log_data.xlsx')\n",
    "log_df.columns"
   ]
  },
  {
   "cell_type": "code",
   "execution_count": 4,
   "metadata": {},
   "outputs": [
    {
     "data": {
      "text/html": [
       "<div>\n",
       "<style scoped>\n",
       "    .dataframe tbody tr th:only-of-type {\n",
       "        vertical-align: middle;\n",
       "    }\n",
       "\n",
       "    .dataframe tbody tr th {\n",
       "        vertical-align: top;\n",
       "    }\n",
       "\n",
       "    .dataframe thead th {\n",
       "        text-align: right;\n",
       "    }\n",
       "</style>\n",
       "<table border=\"1\" class=\"dataframe\">\n",
       "  <thead>\n",
       "    <tr style=\"text-align: right;\">\n",
       "      <th></th>\n",
       "      <th>Time Stamp</th>\n",
       "      <th>Source User</th>\n",
       "      <th>Target User</th>\n",
       "      <th>Source System</th>\n",
       "      <th>Data Classification</th>\n",
       "      <th>Authentication Type</th>\n",
       "      <th>Server Type</th>\n",
       "      <th>Login Result</th>\n",
       "      <th>Anomalous</th>\n",
       "      <th>Comments</th>\n",
       "    </tr>\n",
       "  </thead>\n",
       "  <tbody>\n",
       "    <tr>\n",
       "      <th>0</th>\n",
       "      <td>11:20:00</td>\n",
       "      <td>C625$@DOM1</td>\n",
       "      <td>SYSTEM@C653</td>\n",
       "      <td>PC-1234</td>\n",
       "      <td>High</td>\n",
       "      <td>SSO</td>\n",
       "      <td>External</td>\n",
       "      <td>Success</td>\n",
       "      <td>Yes</td>\n",
       "      <td>SSO on external Server is not a good approach</td>\n",
       "    </tr>\n",
       "    <tr>\n",
       "      <th>1</th>\n",
       "      <td>19:20:00</td>\n",
       "      <td>C625$@DOM2</td>\n",
       "      <td>SYSTEM@C654</td>\n",
       "      <td>PC-1235</td>\n",
       "      <td>Medium</td>\n",
       "      <td>2 Factor Auth</td>\n",
       "      <td>Internal</td>\n",
       "      <td>Success</td>\n",
       "      <td>No</td>\n",
       "      <td>NaN</td>\n",
       "    </tr>\n",
       "    <tr>\n",
       "      <th>2</th>\n",
       "      <td>19:20:00</td>\n",
       "      <td>C625$@DOM2</td>\n",
       "      <td>SYSTEM@C654</td>\n",
       "      <td>PC-1235</td>\n",
       "      <td>Low</td>\n",
       "      <td>2 Factor Auth</td>\n",
       "      <td>Internal</td>\n",
       "      <td>Success</td>\n",
       "      <td>No</td>\n",
       "      <td>NaN</td>\n",
       "    </tr>\n",
       "    <tr>\n",
       "      <th>3</th>\n",
       "      <td>19:20:00</td>\n",
       "      <td>C625$@DOM2</td>\n",
       "      <td>SYSTEM@C654</td>\n",
       "      <td>PC-1235</td>\n",
       "      <td>High</td>\n",
       "      <td>2 Factor Auth</td>\n",
       "      <td>Internal</td>\n",
       "      <td>Success</td>\n",
       "      <td>No</td>\n",
       "      <td>NaN</td>\n",
       "    </tr>\n",
       "    <tr>\n",
       "      <th>4</th>\n",
       "      <td>17:20:00</td>\n",
       "      <td>C625$@DOM3</td>\n",
       "      <td>SYSTEM@C655</td>\n",
       "      <td>PC-1236</td>\n",
       "      <td>Low</td>\n",
       "      <td>Adaptive Auth</td>\n",
       "      <td>External</td>\n",
       "      <td>Success</td>\n",
       "      <td>No</td>\n",
       "      <td>NaN</td>\n",
       "    </tr>\n",
       "  </tbody>\n",
       "</table>\n",
       "</div>"
      ],
      "text/plain": [
       "  Time Stamp Source User Target User  Source System Data Classification   \\\n",
       "0   11:20:00  C625$@DOM1  SYSTEM@C653       PC-1234                 High   \n",
       "1   19:20:00  C625$@DOM2  SYSTEM@C654       PC-1235               Medium   \n",
       "2   19:20:00  C625$@DOM2  SYSTEM@C654       PC-1235                  Low   \n",
       "3   19:20:00  C625$@DOM2  SYSTEM@C654       PC-1235                 High   \n",
       "4   17:20:00  C625$@DOM3  SYSTEM@C655       PC-1236                  Low   \n",
       "\n",
       "  Authentication Type Server Type Login Result  Anomalous  \\\n",
       "0                 SSO    External       Success       Yes   \n",
       "1       2 Factor Auth   Internal        Success        No   \n",
       "2       2 Factor Auth   Internal        Success        No   \n",
       "3       2 Factor Auth   Internal        Success        No   \n",
       "4       Adaptive Auth    External       Success        No   \n",
       "\n",
       "                                        Comments  \n",
       "0  SSO on external Server is not a good approach  \n",
       "1                                            NaN  \n",
       "2                                            NaN  \n",
       "3                                            NaN  \n",
       "4                                            NaN  "
      ]
     },
     "execution_count": 4,
     "metadata": {},
     "output_type": "execute_result"
    }
   ],
   "source": [
    "# print top 5 records\n",
    "log_df.head()"
   ]
  },
  {
   "cell_type": "code",
   "execution_count": 5,
   "metadata": {},
   "outputs": [
    {
     "data": {
      "text/plain": [
       "(3500, 10)"
      ]
     },
     "execution_count": 5,
     "metadata": {},
     "output_type": "execute_result"
    }
   ],
   "source": [
    "# print number of rows and columns in dataset\n",
    "log_df.shape"
   ]
  },
  {
   "cell_type": "markdown",
   "metadata": {},
   "source": [
    "Format column names"
   ]
  },
  {
   "cell_type": "code",
   "execution_count": 6,
   "metadata": {},
   "outputs": [
    {
     "data": {
      "text/html": [
       "<div>\n",
       "<style scoped>\n",
       "    .dataframe tbody tr th:only-of-type {\n",
       "        vertical-align: middle;\n",
       "    }\n",
       "\n",
       "    .dataframe tbody tr th {\n",
       "        vertical-align: top;\n",
       "    }\n",
       "\n",
       "    .dataframe thead th {\n",
       "        text-align: right;\n",
       "    }\n",
       "</style>\n",
       "<table border=\"1\" class=\"dataframe\">\n",
       "  <thead>\n",
       "    <tr style=\"text-align: right;\">\n",
       "      <th></th>\n",
       "      <th>Time_Stamp</th>\n",
       "      <th>Source_User</th>\n",
       "      <th>Target_User</th>\n",
       "      <th>Source_System</th>\n",
       "      <th>Data_Classification</th>\n",
       "      <th>Authentication_Type</th>\n",
       "      <th>Server_Type</th>\n",
       "      <th>Login_Result</th>\n",
       "      <th>Anomalous</th>\n",
       "      <th>Comments</th>\n",
       "    </tr>\n",
       "  </thead>\n",
       "  <tbody>\n",
       "    <tr>\n",
       "      <th>0</th>\n",
       "      <td>11:20:00</td>\n",
       "      <td>C625$@DOM1</td>\n",
       "      <td>SYSTEM@C653</td>\n",
       "      <td>PC-1234</td>\n",
       "      <td>High</td>\n",
       "      <td>SSO</td>\n",
       "      <td>External</td>\n",
       "      <td>Success</td>\n",
       "      <td>Yes</td>\n",
       "      <td>SSO on external Server is not a good approach</td>\n",
       "    </tr>\n",
       "    <tr>\n",
       "      <th>1</th>\n",
       "      <td>19:20:00</td>\n",
       "      <td>C625$@DOM2</td>\n",
       "      <td>SYSTEM@C654</td>\n",
       "      <td>PC-1235</td>\n",
       "      <td>Medium</td>\n",
       "      <td>2 Factor Auth</td>\n",
       "      <td>Internal</td>\n",
       "      <td>Success</td>\n",
       "      <td>No</td>\n",
       "      <td>NaN</td>\n",
       "    </tr>\n",
       "    <tr>\n",
       "      <th>2</th>\n",
       "      <td>19:20:00</td>\n",
       "      <td>C625$@DOM2</td>\n",
       "      <td>SYSTEM@C654</td>\n",
       "      <td>PC-1235</td>\n",
       "      <td>Low</td>\n",
       "      <td>2 Factor Auth</td>\n",
       "      <td>Internal</td>\n",
       "      <td>Success</td>\n",
       "      <td>No</td>\n",
       "      <td>NaN</td>\n",
       "    </tr>\n",
       "    <tr>\n",
       "      <th>3</th>\n",
       "      <td>19:20:00</td>\n",
       "      <td>C625$@DOM2</td>\n",
       "      <td>SYSTEM@C654</td>\n",
       "      <td>PC-1235</td>\n",
       "      <td>High</td>\n",
       "      <td>2 Factor Auth</td>\n",
       "      <td>Internal</td>\n",
       "      <td>Success</td>\n",
       "      <td>No</td>\n",
       "      <td>NaN</td>\n",
       "    </tr>\n",
       "    <tr>\n",
       "      <th>4</th>\n",
       "      <td>17:20:00</td>\n",
       "      <td>C625$@DOM3</td>\n",
       "      <td>SYSTEM@C655</td>\n",
       "      <td>PC-1236</td>\n",
       "      <td>Low</td>\n",
       "      <td>Adaptive Auth</td>\n",
       "      <td>External</td>\n",
       "      <td>Success</td>\n",
       "      <td>No</td>\n",
       "      <td>NaN</td>\n",
       "    </tr>\n",
       "  </tbody>\n",
       "</table>\n",
       "</div>"
      ],
      "text/plain": [
       "  Time_Stamp Source_User  Target_User Source_System Data_Classification  \\\n",
       "0   11:20:00  C625$@DOM1  SYSTEM@C653       PC-1234                High   \n",
       "1   19:20:00  C625$@DOM2  SYSTEM@C654       PC-1235              Medium   \n",
       "2   19:20:00  C625$@DOM2  SYSTEM@C654       PC-1235                 Low   \n",
       "3   19:20:00  C625$@DOM2  SYSTEM@C654       PC-1235                High   \n",
       "4   17:20:00  C625$@DOM3  SYSTEM@C655       PC-1236                 Low   \n",
       "\n",
       "  Authentication_Type Server_Type Login_Result Anomalous  \\\n",
       "0                 SSO    External      Success       Yes   \n",
       "1       2 Factor Auth   Internal       Success        No   \n",
       "2       2 Factor Auth   Internal       Success        No   \n",
       "3       2 Factor Auth   Internal       Success        No   \n",
       "4       Adaptive Auth    External      Success        No   \n",
       "\n",
       "                                        Comments  \n",
       "0  SSO on external Server is not a good approach  \n",
       "1                                            NaN  \n",
       "2                                            NaN  \n",
       "3                                            NaN  \n",
       "4                                            NaN  "
      ]
     },
     "execution_count": 6,
     "metadata": {},
     "output_type": "execute_result"
    }
   ],
   "source": [
    "# Remove space in column name and join them with underscore\n",
    "log_df = log_df.rename(columns={col: col.strip().replace(' ', '_') for col in log_df.columns})\n",
    "log_df.head()"
   ]
  },
  {
   "cell_type": "markdown",
   "metadata": {},
   "source": [
    "Create Access time column from timestamp"
   ]
  },
  {
   "cell_type": "code",
   "execution_count": 7,
   "metadata": {},
   "outputs": [
    {
     "data": {
      "text/html": [
       "<div>\n",
       "<style scoped>\n",
       "    .dataframe tbody tr th:only-of-type {\n",
       "        vertical-align: middle;\n",
       "    }\n",
       "\n",
       "    .dataframe tbody tr th {\n",
       "        vertical-align: top;\n",
       "    }\n",
       "\n",
       "    .dataframe thead th {\n",
       "        text-align: right;\n",
       "    }\n",
       "</style>\n",
       "<table border=\"1\" class=\"dataframe\">\n",
       "  <thead>\n",
       "    <tr style=\"text-align: right;\">\n",
       "      <th></th>\n",
       "      <th>Time_Stamp</th>\n",
       "      <th>Source_User</th>\n",
       "      <th>Target_User</th>\n",
       "      <th>Source_System</th>\n",
       "      <th>Data_Classification</th>\n",
       "      <th>Authentication_Type</th>\n",
       "      <th>Server_Type</th>\n",
       "      <th>Login_Result</th>\n",
       "      <th>Anomalous</th>\n",
       "      <th>Comments</th>\n",
       "      <th>Access_Time</th>\n",
       "    </tr>\n",
       "  </thead>\n",
       "  <tbody>\n",
       "    <tr>\n",
       "      <th>0</th>\n",
       "      <td>1900-01-01 11:20:00</td>\n",
       "      <td>C625$@DOM1</td>\n",
       "      <td>SYSTEM@C653</td>\n",
       "      <td>PC-1234</td>\n",
       "      <td>High</td>\n",
       "      <td>SSO</td>\n",
       "      <td>External</td>\n",
       "      <td>Success</td>\n",
       "      <td>Yes</td>\n",
       "      <td>SSO on external Server is not a good approach</td>\n",
       "      <td>Morning</td>\n",
       "    </tr>\n",
       "    <tr>\n",
       "      <th>1</th>\n",
       "      <td>1900-01-01 19:20:00</td>\n",
       "      <td>C625$@DOM2</td>\n",
       "      <td>SYSTEM@C654</td>\n",
       "      <td>PC-1235</td>\n",
       "      <td>Medium</td>\n",
       "      <td>2 Factor Auth</td>\n",
       "      <td>Internal</td>\n",
       "      <td>Success</td>\n",
       "      <td>No</td>\n",
       "      <td>NaN</td>\n",
       "      <td>Evening</td>\n",
       "    </tr>\n",
       "    <tr>\n",
       "      <th>2</th>\n",
       "      <td>1900-01-01 19:20:00</td>\n",
       "      <td>C625$@DOM2</td>\n",
       "      <td>SYSTEM@C654</td>\n",
       "      <td>PC-1235</td>\n",
       "      <td>Low</td>\n",
       "      <td>2 Factor Auth</td>\n",
       "      <td>Internal</td>\n",
       "      <td>Success</td>\n",
       "      <td>No</td>\n",
       "      <td>NaN</td>\n",
       "      <td>Evening</td>\n",
       "    </tr>\n",
       "    <tr>\n",
       "      <th>3</th>\n",
       "      <td>1900-01-01 19:20:00</td>\n",
       "      <td>C625$@DOM2</td>\n",
       "      <td>SYSTEM@C654</td>\n",
       "      <td>PC-1235</td>\n",
       "      <td>High</td>\n",
       "      <td>2 Factor Auth</td>\n",
       "      <td>Internal</td>\n",
       "      <td>Success</td>\n",
       "      <td>No</td>\n",
       "      <td>NaN</td>\n",
       "      <td>Evening</td>\n",
       "    </tr>\n",
       "    <tr>\n",
       "      <th>4</th>\n",
       "      <td>1900-01-01 17:20:00</td>\n",
       "      <td>C625$@DOM3</td>\n",
       "      <td>SYSTEM@C655</td>\n",
       "      <td>PC-1236</td>\n",
       "      <td>Low</td>\n",
       "      <td>Adaptive Auth</td>\n",
       "      <td>External</td>\n",
       "      <td>Success</td>\n",
       "      <td>No</td>\n",
       "      <td>NaN</td>\n",
       "      <td>Afternoon</td>\n",
       "    </tr>\n",
       "  </tbody>\n",
       "</table>\n",
       "</div>"
      ],
      "text/plain": [
       "           Time_Stamp Source_User  Target_User Source_System  \\\n",
       "0 1900-01-01 11:20:00  C625$@DOM1  SYSTEM@C653       PC-1234   \n",
       "1 1900-01-01 19:20:00  C625$@DOM2  SYSTEM@C654       PC-1235   \n",
       "2 1900-01-01 19:20:00  C625$@DOM2  SYSTEM@C654       PC-1235   \n",
       "3 1900-01-01 19:20:00  C625$@DOM2  SYSTEM@C654       PC-1235   \n",
       "4 1900-01-01 17:20:00  C625$@DOM3  SYSTEM@C655       PC-1236   \n",
       "\n",
       "  Data_Classification Authentication_Type Server_Type Login_Result Anomalous  \\\n",
       "0                High                 SSO    External      Success       Yes   \n",
       "1              Medium       2 Factor Auth   Internal       Success        No   \n",
       "2                 Low       2 Factor Auth   Internal       Success        No   \n",
       "3                High       2 Factor Auth   Internal       Success        No   \n",
       "4                 Low       Adaptive Auth    External      Success        No   \n",
       "\n",
       "                                        Comments Access_Time  \n",
       "0  SSO on external Server is not a good approach     Morning  \n",
       "1                                            NaN     Evening  \n",
       "2                                            NaN     Evening  \n",
       "3                                            NaN     Evening  \n",
       "4                                            NaN   Afternoon  "
      ]
     },
     "execution_count": 7,
     "metadata": {},
     "output_type": "execute_result"
    }
   ],
   "source": [
    "# create access time column based on timestamp\n",
    "\n",
    "log_df['Time_Stamp'] = pd.to_datetime(log_df['Time_Stamp'], format='%H:%M:%S')\n",
    "\n",
    "def classify_time(hour):\n",
    "    if 0 <= hour < 6:\n",
    "        return 'Midnight'\n",
    "    elif 6 <= hour < 12:\n",
    "        return 'Morning'\n",
    "    elif 12 <= hour < 18:\n",
    "        return 'Afternoon'\n",
    "    else:\n",
    "        return 'Evening'\n",
    "\n",
    "hour = log_df['Time_Stamp'].dt.hour\n",
    "log_df['Access_Time'] = hour.apply(classify_time)\n",
    "\n",
    "log_df.head()"
   ]
  },
  {
   "cell_type": "markdown",
   "metadata": {},
   "source": [
    "Create synthetic data (Update Anomalous column based on rules)"
   ]
  },
  {
   "cell_type": "code",
   "execution_count": 8,
   "metadata": {},
   "outputs": [
    {
     "data": {
      "text/html": [
       "<div>\n",
       "<style scoped>\n",
       "    .dataframe tbody tr th:only-of-type {\n",
       "        vertical-align: middle;\n",
       "    }\n",
       "\n",
       "    .dataframe tbody tr th {\n",
       "        vertical-align: top;\n",
       "    }\n",
       "\n",
       "    .dataframe thead th {\n",
       "        text-align: right;\n",
       "    }\n",
       "</style>\n",
       "<table border=\"1\" class=\"dataframe\">\n",
       "  <thead>\n",
       "    <tr style=\"text-align: right;\">\n",
       "      <th></th>\n",
       "      <th>Time_Stamp</th>\n",
       "      <th>Source_User</th>\n",
       "      <th>Target_User</th>\n",
       "      <th>Source_System</th>\n",
       "      <th>Data_Classification</th>\n",
       "      <th>Authentication_Type</th>\n",
       "      <th>Server_Type</th>\n",
       "      <th>Login_Result</th>\n",
       "      <th>Anomalous</th>\n",
       "      <th>Comments</th>\n",
       "      <th>Access_Time</th>\n",
       "    </tr>\n",
       "  </thead>\n",
       "  <tbody>\n",
       "    <tr>\n",
       "      <th>3495</th>\n",
       "      <td>2020-06-11 19:36:19</td>\n",
       "      <td>C625$@DOM2</td>\n",
       "      <td>SYSTEM@C658</td>\n",
       "      <td>PC-1235</td>\n",
       "      <td>High</td>\n",
       "      <td>2 Factor Auth</td>\n",
       "      <td>External</td>\n",
       "      <td>Success</td>\n",
       "      <td>No</td>\n",
       "      <td>None</td>\n",
       "      <td>Evening</td>\n",
       "    </tr>\n",
       "    <tr>\n",
       "      <th>3496</th>\n",
       "      <td>2020-04-21 20:24:41</td>\n",
       "      <td>C625$@DOM5</td>\n",
       "      <td>SYSTEM@C656</td>\n",
       "      <td>PC-1235</td>\n",
       "      <td>Medium</td>\n",
       "      <td>2 Factor Auth</td>\n",
       "      <td>Internal</td>\n",
       "      <td>Success</td>\n",
       "      <td>No</td>\n",
       "      <td>None</td>\n",
       "      <td>Evening</td>\n",
       "    </tr>\n",
       "    <tr>\n",
       "      <th>3497</th>\n",
       "      <td>2020-05-03 02:39:33</td>\n",
       "      <td>C625$@DOM2</td>\n",
       "      <td>SYSTEM@C656</td>\n",
       "      <td>PC-1234</td>\n",
       "      <td>Low</td>\n",
       "      <td>2 Factor Auth</td>\n",
       "      <td>External</td>\n",
       "      <td>Success</td>\n",
       "      <td>Yes</td>\n",
       "      <td>Time is odd</td>\n",
       "      <td>Midnight</td>\n",
       "    </tr>\n",
       "    <tr>\n",
       "      <th>3498</th>\n",
       "      <td>2020-04-10 00:37:30</td>\n",
       "      <td>C625$@DOM1</td>\n",
       "      <td>SYSTEM@C655</td>\n",
       "      <td>PC-1237</td>\n",
       "      <td>Low</td>\n",
       "      <td>2 Factor Auth</td>\n",
       "      <td>Internal</td>\n",
       "      <td>Success</td>\n",
       "      <td>Yes</td>\n",
       "      <td>Time is odd</td>\n",
       "      <td>Midnight</td>\n",
       "    </tr>\n",
       "    <tr>\n",
       "      <th>3499</th>\n",
       "      <td>2020-02-21 11:28:46</td>\n",
       "      <td>C625$@DOM1</td>\n",
       "      <td>SYSTEMMMM@C654</td>\n",
       "      <td>PC-1234</td>\n",
       "      <td>Low</td>\n",
       "      <td>2 Factor Auth</td>\n",
       "      <td>External</td>\n",
       "      <td>Success</td>\n",
       "      <td>Yes</td>\n",
       "      <td>Invalid target user</td>\n",
       "      <td>Morning</td>\n",
       "    </tr>\n",
       "  </tbody>\n",
       "</table>\n",
       "</div>"
      ],
      "text/plain": [
       "              Time_Stamp Source_User     Target_User Source_System  \\\n",
       "3495 2020-06-11 19:36:19  C625$@DOM2     SYSTEM@C658       PC-1235   \n",
       "3496 2020-04-21 20:24:41  C625$@DOM5     SYSTEM@C656       PC-1235   \n",
       "3497 2020-05-03 02:39:33  C625$@DOM2     SYSTEM@C656       PC-1234   \n",
       "3498 2020-04-10 00:37:30  C625$@DOM1     SYSTEM@C655       PC-1237   \n",
       "3499 2020-02-21 11:28:46  C625$@DOM1  SYSTEMMMM@C654       PC-1234   \n",
       "\n",
       "     Data_Classification Authentication_Type Server_Type Login_Result  \\\n",
       "3495                High       2 Factor Auth    External      Success   \n",
       "3496              Medium       2 Factor Auth    Internal      Success   \n",
       "3497                 Low       2 Factor Auth    External      Success   \n",
       "3498                 Low       2 Factor Auth    Internal      Success   \n",
       "3499                 Low       2 Factor Auth    External      Success   \n",
       "\n",
       "     Anomalous             Comments Access_Time  \n",
       "3495        No                 None     Evening  \n",
       "3496        No                 None     Evening  \n",
       "3497       Yes          Time is odd    Midnight  \n",
       "3498       Yes          Time is odd    Midnight  \n",
       "3499       Yes  Invalid target user     Morning  "
      ]
     },
     "execution_count": 8,
     "metadata": {},
     "output_type": "execute_result"
    }
   ],
   "source": [
    "# set rules for synthetic data\n",
    "valid_source_user = ['C625$@DOM1', 'C625$@DOM2', 'C625$@DOM3', 'C625$@DOM4','C625$@DOM5','C625$@DOM6','C625$@DOM8']\n",
    "valid_target_user = ['SYSTEM@C653', 'SYSTEM@C654','SYSTEM@C655','SYSTEM@C656','SYSTEM@C657','SYSTEM@C658','SYSTEM@C660']\n",
    "valid_source_system = ['PC-1234', 'PC-1235', 'PC-1236', 'PC-1237', 'PC-1238', 'PC-1239', 'PC-1241']\n",
    "\n",
    "def update_anomalous(row):\n",
    "    anomalous = 'No'\n",
    "    comment = None\n",
    "    if row['Source_User'] not in valid_source_user:\n",
    "        anomalous = 'Yes'\n",
    "        comment = 'Invalid source user'\n",
    "    elif row['Target_User'] not in valid_target_user:\n",
    "        anomalous = 'Yes'\n",
    "        comment = 'Invalid target user'\n",
    "    elif row['Source_System'] not in valid_source_system:\n",
    "        anomalous = 'Yes'\n",
    "        comment = 'Invalid source system'\n",
    "    elif row['Access_Time'] == 'Midnight':\n",
    "        anomalous = 'Yes'\n",
    "        comment = 'Time is odd'\n",
    "    elif row['Data_Classification'] == 'High' and row['Authentication_Type'] == 'SSO' and row['Server_Type'] == 'External':\n",
    "        anomalous = 'Yes'\n",
    "        comment = 'SSO on external Server is not a good approach'\n",
    "    elif row['Data_Classification'] == 'High' and row['Authentication_Type'] == 'HTTP Basic Auth' and row['Server_Type'] in ['Internal', 'External']:\n",
    "        anomalous = 'Yes'\n",
    "        comment = 'Basic Auth is not good for critical data'\n",
    "    elif row['Data_Classification'] in ['High','Low', 'Medium'] and row['Authentication_Type'] == 'OAuth' and row['Server_Type'] == 'External':\n",
    "        anomalous = 'Yes'\n",
    "        comment = 'Supplement additional authentication such as certificate or allowlist'\n",
    "    row['Anomalous'] = anomalous\n",
    "    row['Comments'] = comment\n",
    "    return row\n",
    "\n",
    "# Apply the function to each row\n",
    "log_df = log_df.apply(update_anomalous, axis=1)\n",
    "log_df.tail()\n"
   ]
  },
  {
   "cell_type": "markdown",
   "metadata": {},
   "source": [
    "Remove space from all cell values"
   ]
  },
  {
   "cell_type": "code",
   "execution_count": 9,
   "metadata": {},
   "outputs": [
    {
     "name": "stderr",
     "output_type": "stream",
     "text": [
      "C:\\Users\\Chitt\\AppData\\Local\\Temp\\ipykernel_25784\\1417334954.py:2: FutureWarning: DataFrame.applymap has been deprecated. Use DataFrame.map instead.\n",
      "  log_df = log_df.applymap(lambda x: x.strip() if isinstance(x, str) else x)\n"
     ]
    }
   ],
   "source": [
    "# strip space from all string values\n",
    "log_df = log_df.applymap(lambda x: x.strip() if isinstance(x, str) else x)"
   ]
  },
  {
   "cell_type": "markdown",
   "metadata": {},
   "source": [
    "Print count and percentage of Anomalous split up"
   ]
  },
  {
   "cell_type": "code",
   "execution_count": 10,
   "metadata": {},
   "outputs": [
    {
     "data": {
      "text/html": [
       "<div>\n",
       "<style scoped>\n",
       "    .dataframe tbody tr th:only-of-type {\n",
       "        vertical-align: middle;\n",
       "    }\n",
       "\n",
       "    .dataframe tbody tr th {\n",
       "        vertical-align: top;\n",
       "    }\n",
       "\n",
       "    .dataframe thead th {\n",
       "        text-align: right;\n",
       "    }\n",
       "</style>\n",
       "<table border=\"1\" class=\"dataframe\">\n",
       "  <thead>\n",
       "    <tr style=\"text-align: right;\">\n",
       "      <th></th>\n",
       "      <th>Anomalous</th>\n",
       "      <th>Count</th>\n",
       "      <th>Percentage</th>\n",
       "    </tr>\n",
       "  </thead>\n",
       "  <tbody>\n",
       "    <tr>\n",
       "      <th>0</th>\n",
       "      <td>No</td>\n",
       "      <td>1683</td>\n",
       "      <td>84150.0</td>\n",
       "    </tr>\n",
       "    <tr>\n",
       "      <th>1</th>\n",
       "      <td>Yes</td>\n",
       "      <td>1817</td>\n",
       "      <td>90850.0</td>\n",
       "    </tr>\n",
       "  </tbody>\n",
       "</table>\n",
       "</div>"
      ],
      "text/plain": [
       "  Anomalous  Count  Percentage\n",
       "0        No   1683     84150.0\n",
       "1       Yes   1817     90850.0"
      ]
     },
     "execution_count": 10,
     "metadata": {},
     "output_type": "execute_result"
    }
   ],
   "source": [
    "# print anomalous split up percentage\n",
    "anomalous_count = log_df['Anomalous'].value_counts().sort_index().reset_index()\n",
    "anomalous_count.columns = ['Anomalous', 'Count']\n",
    "anomalous_count['Percentage'] = round((anomalous_count['Count'] / len(anomalous_count)) * 100,2)\n",
    "anomalous_count.sort_values(by='Anomalous')"
   ]
  },
  {
   "cell_type": "markdown",
   "metadata": {},
   "source": [
    "Filter only 2000 records"
   ]
  },
  {
   "cell_type": "code",
   "execution_count": 11,
   "metadata": {},
   "outputs": [],
   "source": [
    "# Filter 2000 records with 80% No and 20% Yes\n",
    "yes_records = log_df[log_df['Anomalous'] == 'Yes']\n",
    "no_records = log_df[log_df['Anomalous'] == 'No']\n",
    "\n",
    "yes_sample = yes_records.sample(n=400, random_state=42)\n",
    "no_sample = no_records.sample(n=1600, random_state=42)\n",
    "\n",
    "log_df = pd.concat([yes_sample, no_sample])\n",
    "log_df.to_csv('user_log_final_data.csv', index=False)"
   ]
  },
  {
   "cell_type": "markdown",
   "metadata": {},
   "source": [
    "Pie chart for anomalous distribution"
   ]
  },
  {
   "cell_type": "code",
   "execution_count": 12,
   "metadata": {},
   "outputs": [
    {
     "data": {
      "image/png": "[encoded data removed]",
      "text/plain": [
       "<Figure size 640x480 with 1 Axes>"
      ]
     },
     "metadata": {},
     "output_type": "display_data"
    }
   ],
   "source": [
    "# Plot pie chart for anomalous activity distribution\n",
    "log_df['Anomalous'].value_counts().plot.pie(autopct='%1.1f%%')\n",
    "plt.title('Pie Chart for Anomalous activity distribution')\n",
    "plt.ylabel('')\n",
    "plt.show()"
   ]
  },
  {
   "cell_type": "markdown",
   "metadata": {},
   "source": [
    "Grouped bar chart for Anomalous vs Server type"
   ]
  },
  {
   "cell_type": "code",
   "execution_count": 13,
   "metadata": {},
   "outputs": [
    {
     "data": {
      "image/png": "[encoded data removed]",
      "text/plain": [
       "<Figure size 640x480 with 1 Axes>"
      ]
     },
     "metadata": {},
     "output_type": "display_data"
    }
   ],
   "source": [
    "# Create the grouped bar plot for anomalous activity based on server type\n",
    "sns.countplot(x='Server_Type', hue='Anomalous', data=log_df)\n",
    "plt.title('Anomalous splitup based on Server type')\n",
    "plt.xlabel('Server_Type')\n",
    "plt.ylabel('Count')\n",
    "plt.show()"
   ]
  },
  {
   "cell_type": "code",
   "execution_count": 14,
   "metadata": {},
   "outputs": [
    {
     "data": {
      "text/plain": [
       "Index(['Time_Stamp', 'Source_User', 'Target_User', 'Source_System',\n",
       "       'Data_Classification', 'Authentication_Type', 'Server_Type',\n",
       "       'Login_Result', 'Anomalous', 'Comments', 'Access_Time'],\n",
       "      dtype='object')"
      ]
     },
     "execution_count": 14,
     "metadata": {},
     "output_type": "execute_result"
    }
   ],
   "source": [
    "# print column names\n",
    "log_df.columns"
   ]
  },
  {
   "cell_type": "markdown",
   "metadata": {},
   "source": [
    "Encode categorical columns"
   ]
  },
  {
   "cell_type": "code",
   "execution_count": 15,
   "metadata": {},
   "outputs": [
    {
     "name": "stderr",
     "output_type": "stream",
     "text": [
      "C:\\Users\\Chitt\\AppData\\Local\\Temp\\ipykernel_25784\\865374209.py:3: FutureWarning: Downcasting behavior in `replace` is deprecated and will be removed in a future version. To retain the old behavior, explicitly call `result.infer_objects(copy=False)`. To opt-in to the future behavior, set `pd.set_option('future.no_silent_downcasting', True)`\n",
      "  log_df['Anomalous'] = log_df['Anomalous'].replace({'Yes': 1, 'No': 0})\n"
     ]
    },
    {
     "data": {
      "text/plain": [
       "Index(['Time_Stamp', 'Login_Result', 'Anomalous', 'Comments',\n",
       "       'Source_User_C625$@DOM1', 'Source_User_C625$@DOM2',\n",
       "       'Source_User_C625$@DOM3', 'Source_User_C625$@DOM4',\n",
       "       'Source_User_C625$@DOM5', 'Source_User_C625$@DOM6',\n",
       "       'Source_User_C625$@DOM8', 'Source_User_C625$@DOMMMM2',\n",
       "       'Target_User_SYSTEM@C653', 'Target_User_SYSTEM@C654',\n",
       "       'Target_User_SYSTEM@C655', 'Target_User_SYSTEM@C656',\n",
       "       'Target_User_SYSTEM@C657', 'Target_User_SYSTEM@C658',\n",
       "       'Target_User_SYSTEM@C660', 'Target_User_SYSTEMMMM@C654',\n",
       "       'Source_System_PC-1234', 'Source_System_PC-1235',\n",
       "       'Source_System_PC-1236', 'Source_System_PC-1237',\n",
       "       'Source_System_PC-1238', 'Source_System_PC-1239',\n",
       "       'Source_System_PC-1241', 'Data_Classification_High',\n",
       "       'Data_Classification_Low', 'Data_Classification_Medium',\n",
       "       'Authentication_Type_2 Factor Auth', 'Authentication_Type_API Keys',\n",
       "       'Authentication_Type_Adaptive Auth',\n",
       "       'Authentication_Type_HTTP Basic Auth', 'Authentication_Type_OAuth',\n",
       "       'Authentication_Type_SSO', 'Server_Type_External',\n",
       "       'Server_Type_Internal', 'Access_Time_Afternoon', 'Access_Time_Evening',\n",
       "       'Access_Time_Midnight', 'Access_Time_Morning'],\n",
       "      dtype='object')"
      ]
     },
     "execution_count": 15,
     "metadata": {},
     "output_type": "execute_result"
    }
   ],
   "source": [
    "# encode categorical columns as binary values (0/1)\n",
    "log_df = pd.get_dummies(log_df, columns=['Source_User','Target_User', 'Source_System', 'Data_Classification', 'Authentication_Type', 'Server_Type', 'Access_Time'], prefix_sep='_', dtype=int)\n",
    "log_df['Anomalous'] = log_df['Anomalous'].replace({'Yes': 1, 'No': 0})\n",
    "log_df.to_csv('user_log_encoded_data.csv', index=False)\n",
    "log_df.columns"
   ]
  },
  {
   "cell_type": "markdown",
   "metadata": {},
   "source": [
    "Split training and testing data"
   ]
  },
  {
   "cell_type": "code",
   "execution_count": 16,
   "metadata": {},
   "outputs": [],
   "source": [
    "# split 80% training and 20% testing data\n",
    "X = log_df.drop(columns=['Time_Stamp', 'Login_Result', 'Anomalous', 'Comments'])\n",
    "y = log_df['Anomalous']\n",
    "\n",
    "X_train, X_test, y_train, y_test = train_test_split(X, y, test_size=0.2, random_state=42)"
   ]
  },
  {
   "cell_type": "markdown",
   "metadata": {},
   "source": [
    "Create neural network model"
   ]
  },
  {
   "cell_type": "code",
   "execution_count": 17,
   "metadata": {},
   "outputs": [
    {
     "name": "stderr",
     "output_type": "stream",
     "text": [
      "c:\\Users\\Chitt\\Downloads\\Deep Learning\\.venv\\Lib\\site-packages\\keras\\src\\layers\\core\\dense.py:87: UserWarning: Do not pass an `input_shape`/`input_dim` argument to a layer. When using Sequential models, prefer using an `Input(shape)` object as the first layer in the model instead.\n",
      "  super().__init__(activity_regularizer=activity_regularizer, **kwargs)\n"
     ]
    }
   ],
   "source": [
    "# create neural network model\n",
    "model = Sequential([\n",
    "    Dense(32, input_dim=X_train.shape[1], activation='relu'),\n",
    "    Dense(16, activation='relu'),\n",
    "    Dense(1, activation='sigmoid')\n",
    "])"
   ]
  },
  {
   "cell_type": "markdown",
   "metadata": {},
   "source": [
    "Compile model"
   ]
  },
  {
   "cell_type": "code",
   "execution_count": 18,
   "metadata": {},
   "outputs": [],
   "source": [
    "# compile the model\n",
    "model.compile(optimizer=Adam(), loss=BinaryCrossentropy(), metrics=['accuracy'])"
   ]
  },
  {
   "cell_type": "markdown",
   "metadata": {},
   "source": [
    "Define Earlystopping to stop if there is no further improvement in model performance"
   ]
  },
  {
   "cell_type": "code",
   "execution_count": 19,
   "metadata": {},
   "outputs": [],
   "source": [
    "# early stopping for stopping when there is no further improvement\n",
    "early_stopping = EarlyStopping(\n",
    "    monitor='val_loss',  # based on validation loss\n",
    "    patience=5,          # wait till 5 epochs before stopping\n",
    "    restore_best_weights=True  \n",
    ")"
   ]
  },
  {
   "cell_type": "markdown",
   "metadata": {},
   "source": [
    "Train model"
   ]
  },
  {
   "cell_type": "code",
   "execution_count": 20,
   "metadata": {},
   "outputs": [
    {
     "name": "stdout",
     "output_type": "stream",
     "text": [
      "Epoch 1/50\n",
      "\u001b[1m40/40\u001b[0m \u001b[32m━━━━━━━━━━━━━━━━━━━━\u001b[0m\u001b[37m\u001b[0m \u001b[1m3s\u001b[0m 5ms/step - accuracy: 0.8006 - loss: 0.5420 - val_accuracy: 0.8281 - val_loss: 0.4248\n",
      "Epoch 2/50\n",
      "\u001b[1m40/40\u001b[0m \u001b[32m━━━━━━━━━━━━━━━━━━━━\u001b[0m\u001b[37m\u001b[0m \u001b[1m0s\u001b[0m 2ms/step - accuracy: 0.8016 - loss: 0.4390 - val_accuracy: 0.8281 - val_loss: 0.3763\n",
      "Epoch 3/50\n",
      "\u001b[1m40/40\u001b[0m \u001b[32m━━━━━━━━━━━━━━━━━━━━\u001b[0m\u001b[37m\u001b[0m \u001b[1m0s\u001b[0m 2ms/step - accuracy: 0.8121 - loss: 0.3747 - val_accuracy: 0.8281 - val_loss: 0.3311\n",
      "Epoch 4/50\n",
      "\u001b[1m40/40\u001b[0m \u001b[32m━━━━━━━━━━━━━━━━━━━━\u001b[0m\u001b[37m\u001b[0m \u001b[1m0s\u001b[0m 2ms/step - accuracy: 0.7998 - loss: 0.3558 - val_accuracy: 0.8531 - val_loss: 0.2786\n",
      "Epoch 5/50\n",
      "\u001b[1m40/40\u001b[0m \u001b[32m━━━━━━━━━━━━━━━━━━━━\u001b[0m\u001b[37m\u001b[0m \u001b[1m0s\u001b[0m 2ms/step - accuracy: 0.8488 - loss: 0.2840 - val_accuracy: 0.9156 - val_loss: 0.2226\n",
      "Epoch 6/50\n",
      "\u001b[1m40/40\u001b[0m \u001b[32m━━━━━━━━━━━━━━━━━━━━\u001b[0m\u001b[37m\u001b[0m \u001b[1m0s\u001b[0m 2ms/step - accuracy: 0.9066 - loss: 0.2409 - val_accuracy: 0.9500 - val_loss: 0.1652\n",
      "Epoch 7/50\n",
      "\u001b[1m40/40\u001b[0m \u001b[32m━━━━━━━━━━━━━━━━━━━━\u001b[0m\u001b[37m\u001b[0m \u001b[1m0s\u001b[0m 2ms/step - accuracy: 0.9352 - loss: 0.1790 - val_accuracy: 0.9656 - val_loss: 0.1165\n",
      "Epoch 8/50\n",
      "\u001b[1m40/40\u001b[0m \u001b[32m━━━━━━━━━━━━━━━━━━━━\u001b[0m\u001b[37m\u001b[0m \u001b[1m0s\u001b[0m 2ms/step - accuracy: 0.9528 - loss: 0.1344 - val_accuracy: 0.9781 - val_loss: 0.0882\n",
      "Epoch 9/50\n",
      "\u001b[1m40/40\u001b[0m \u001b[32m━━━━━━━━━━━━━━━━━━━━\u001b[0m\u001b[37m\u001b[0m \u001b[1m0s\u001b[0m 2ms/step - accuracy: 0.9722 - loss: 0.0937 - val_accuracy: 0.9781 - val_loss: 0.0695\n",
      "Epoch 10/50\n",
      "\u001b[1m40/40\u001b[0m \u001b[32m━━━━━━━━━━━━━━━━━━━━\u001b[0m\u001b[37m\u001b[0m \u001b[1m0s\u001b[0m 1ms/step - accuracy: 0.9802 - loss: 0.0680 - val_accuracy: 0.9812 - val_loss: 0.0586\n",
      "Epoch 11/50\n",
      "\u001b[1m40/40\u001b[0m \u001b[32m━━━━━━━━━━━━━━━━━━━━\u001b[0m\u001b[37m\u001b[0m \u001b[1m0s\u001b[0m 1ms/step - accuracy: 0.9818 - loss: 0.0527 - val_accuracy: 0.9844 - val_loss: 0.0527\n",
      "Epoch 12/50\n",
      "\u001b[1m40/40\u001b[0m \u001b[32m━━━━━━━━━━━━━━━━━━━━\u001b[0m\u001b[37m\u001b[0m \u001b[1m0s\u001b[0m 2ms/step - accuracy: 0.9894 - loss: 0.0385 - val_accuracy: 0.9875 - val_loss: 0.0438\n",
      "Epoch 13/50\n",
      "\u001b[1m40/40\u001b[0m \u001b[32m━━━━━━━━━━━━━━━━━━━━\u001b[0m\u001b[37m\u001b[0m \u001b[1m0s\u001b[0m 2ms/step - accuracy: 0.9958 - loss: 0.0345 - val_accuracy: 0.9875 - val_loss: 0.0348\n",
      "Epoch 14/50\n",
      "\u001b[1m40/40\u001b[0m \u001b[32m━━━━━━━━━━━━━━━━━━━━\u001b[0m\u001b[37m\u001b[0m \u001b[1m0s\u001b[0m 2ms/step - accuracy: 0.9980 - loss: 0.0220 - val_accuracy: 0.9906 - val_loss: 0.0324\n",
      "Epoch 15/50\n",
      "\u001b[1m40/40\u001b[0m \u001b[32m━━━━━━━━━━━━━━━━━━━━\u001b[0m\u001b[37m\u001b[0m \u001b[1m0s\u001b[0m 2ms/step - accuracy: 0.9986 - loss: 0.0213 - val_accuracy: 0.9937 - val_loss: 0.0261\n",
      "Epoch 16/50\n",
      "\u001b[1m40/40\u001b[0m \u001b[32m━━━━━━━━━━━━━━━━━━━━\u001b[0m\u001b[37m\u001b[0m \u001b[1m0s\u001b[0m 2ms/step - accuracy: 0.9999 - loss: 0.0161 - val_accuracy: 0.9969 - val_loss: 0.0216\n",
      "Epoch 17/50\n",
      "\u001b[1m40/40\u001b[0m \u001b[32m━━━━━━━━━━━━━━━━━━━━\u001b[0m\u001b[37m\u001b[0m \u001b[1m0s\u001b[0m 1ms/step - accuracy: 1.0000 - loss: 0.0123 - val_accuracy: 0.9969 - val_loss: 0.0184\n",
      "Epoch 18/50\n",
      "\u001b[1m40/40\u001b[0m \u001b[32m━━━━━━━━━━━━━━━━━━━━\u001b[0m\u001b[37m\u001b[0m \u001b[1m0s\u001b[0m 2ms/step - accuracy: 1.0000 - loss: 0.0119 - val_accuracy: 0.9969 - val_loss: 0.0163\n",
      "Epoch 19/50\n",
      "\u001b[1m40/40\u001b[0m \u001b[32m━━━━━━━━━━━━━━━━━━━━\u001b[0m\u001b[37m\u001b[0m \u001b[1m0s\u001b[0m 2ms/step - accuracy: 1.0000 - loss: 0.0095 - val_accuracy: 0.9969 - val_loss: 0.0142\n",
      "Epoch 20/50\n",
      "\u001b[1m40/40\u001b[0m \u001b[32m━━━━━━━━━━━━━━━━━━━━\u001b[0m\u001b[37m\u001b[0m \u001b[1m0s\u001b[0m 2ms/step - accuracy: 1.0000 - loss: 0.0086 - val_accuracy: 1.0000 - val_loss: 0.0124\n",
      "Epoch 21/50\n",
      "\u001b[1m40/40\u001b[0m \u001b[32m━━━━━━━━━━━━━━━━━━━━\u001b[0m\u001b[37m\u001b[0m \u001b[1m0s\u001b[0m 2ms/step - accuracy: 1.0000 - loss: 0.0066 - val_accuracy: 1.0000 - val_loss: 0.0115\n",
      "Epoch 22/50\n",
      "\u001b[1m40/40\u001b[0m \u001b[32m━━━━━━━━━━━━━━━━━━━━\u001b[0m\u001b[37m\u001b[0m \u001b[1m0s\u001b[0m 2ms/step - accuracy: 1.0000 - loss: 0.0053 - val_accuracy: 1.0000 - val_loss: 0.0096\n",
      "Epoch 23/50\n",
      "\u001b[1m40/40\u001b[0m \u001b[32m━━━━━━━━━━━━━━━━━━━━\u001b[0m\u001b[37m\u001b[0m \u001b[1m0s\u001b[0m 2ms/step - accuracy: 1.0000 - loss: 0.0050 - val_accuracy: 1.0000 - val_loss: 0.0088\n",
      "Epoch 24/50\n",
      "\u001b[1m40/40\u001b[0m \u001b[32m━━━━━━━━━━━━━━━━━━━━\u001b[0m\u001b[37m\u001b[0m \u001b[1m0s\u001b[0m 2ms/step - accuracy: 1.0000 - loss: 0.0048 - val_accuracy: 1.0000 - val_loss: 0.0078\n",
      "Epoch 25/50\n",
      "\u001b[1m40/40\u001b[0m \u001b[32m━━━━━━━━━━━━━━━━━━━━\u001b[0m\u001b[37m\u001b[0m \u001b[1m0s\u001b[0m 2ms/step - accuracy: 1.0000 - loss: 0.0033 - val_accuracy: 1.0000 - val_loss: 0.0075\n",
      "Epoch 26/50\n",
      "\u001b[1m40/40\u001b[0m \u001b[32m━━━━━━━━━━━━━━━━━━━━\u001b[0m\u001b[37m\u001b[0m \u001b[1m0s\u001b[0m 2ms/step - accuracy: 1.0000 - loss: 0.0032 - val_accuracy: 1.0000 - val_loss: 0.0066\n",
      "Epoch 27/50\n",
      "\u001b[1m40/40\u001b[0m \u001b[32m━━━━━━━━━━━━━━━━━━━━\u001b[0m\u001b[37m\u001b[0m \u001b[1m0s\u001b[0m 2ms/step - accuracy: 1.0000 - loss: 0.0032 - val_accuracy: 1.0000 - val_loss: 0.0058\n",
      "Epoch 28/50\n",
      "\u001b[1m40/40\u001b[0m \u001b[32m━━━━━━━━━━━━━━━━━━━━\u001b[0m\u001b[37m\u001b[0m \u001b[1m0s\u001b[0m 2ms/step - accuracy: 1.0000 - loss: 0.0026 - val_accuracy: 1.0000 - val_loss: 0.0056\n",
      "Epoch 29/50\n",
      "\u001b[1m40/40\u001b[0m \u001b[32m━━━━━━━━━━━━━━━━━━━━\u001b[0m\u001b[37m\u001b[0m \u001b[1m0s\u001b[0m 2ms/step - accuracy: 1.0000 - loss: 0.0023 - val_accuracy: 1.0000 - val_loss: 0.0052\n",
      "Epoch 30/50\n",
      "\u001b[1m40/40\u001b[0m \u001b[32m━━━━━━━━━━━━━━━━━━━━\u001b[0m\u001b[37m\u001b[0m \u001b[1m0s\u001b[0m 2ms/step - accuracy: 1.0000 - loss: 0.0024 - val_accuracy: 1.0000 - val_loss: 0.0047\n",
      "Epoch 31/50\n",
      "\u001b[1m40/40\u001b[0m \u001b[32m━━━━━━━━━━━━━━━━━━━━\u001b[0m\u001b[37m\u001b[0m \u001b[1m0s\u001b[0m 1ms/step - accuracy: 1.0000 - loss: 0.0019 - val_accuracy: 1.0000 - val_loss: 0.0043\n",
      "Epoch 32/50\n",
      "\u001b[1m40/40\u001b[0m \u001b[32m━━━━━━━━━━━━━━━━━━━━\u001b[0m\u001b[37m\u001b[0m \u001b[1m0s\u001b[0m 2ms/step - accuracy: 1.0000 - loss: 0.0019 - val_accuracy: 1.0000 - val_loss: 0.0042\n",
      "Epoch 33/50\n",
      "\u001b[1m40/40\u001b[0m \u001b[32m━━━━━━━━━━━━━━━━━━━━\u001b[0m\u001b[37m\u001b[0m \u001b[1m0s\u001b[0m 2ms/step - accuracy: 1.0000 - loss: 0.0016 - val_accuracy: 1.0000 - val_loss: 0.0038\n",
      "Epoch 34/50\n",
      "\u001b[1m40/40\u001b[0m \u001b[32m━━━━━━━━━━━━━━━━━━━━\u001b[0m\u001b[37m\u001b[0m \u001b[1m0s\u001b[0m 1ms/step - accuracy: 1.0000 - loss: 0.0018 - val_accuracy: 1.0000 - val_loss: 0.0035\n",
      "Epoch 35/50\n",
      "\u001b[1m40/40\u001b[0m \u001b[32m━━━━━━━━━━━━━━━━━━━━\u001b[0m\u001b[37m\u001b[0m \u001b[1m0s\u001b[0m 2ms/step - accuracy: 1.0000 - loss: 0.0015 - val_accuracy: 1.0000 - val_loss: 0.0034\n",
      "Epoch 36/50\n",
      "\u001b[1m40/40\u001b[0m \u001b[32m━━━━━━━━━━━━━━━━━━━━\u001b[0m\u001b[37m\u001b[0m \u001b[1m0s\u001b[0m 1ms/step - accuracy: 1.0000 - loss: 0.0015 - val_accuracy: 1.0000 - val_loss: 0.0031\n",
      "Epoch 37/50\n",
      "\u001b[1m40/40\u001b[0m \u001b[32m━━━━━━━━━━━━━━━━━━━━\u001b[0m\u001b[37m\u001b[0m \u001b[1m0s\u001b[0m 2ms/step - accuracy: 1.0000 - loss: 0.0011 - val_accuracy: 1.0000 - val_loss: 0.0029\n",
      "Epoch 38/50\n",
      "\u001b[1m40/40\u001b[0m \u001b[32m━━━━━━━━━━━━━━━━━━━━\u001b[0m\u001b[37m\u001b[0m \u001b[1m0s\u001b[0m 2ms/step - accuracy: 1.0000 - loss: 0.0011 - val_accuracy: 1.0000 - val_loss: 0.0027\n",
      "Epoch 39/50\n",
      "\u001b[1m40/40\u001b[0m \u001b[32m━━━━━━━━━━━━━━━━━━━━\u001b[0m\u001b[37m\u001b[0m \u001b[1m0s\u001b[0m 2ms/step - accuracy: 1.0000 - loss: 0.0011 - val_accuracy: 1.0000 - val_loss: 0.0026\n",
      "Epoch 40/50\n",
      "\u001b[1m40/40\u001b[0m \u001b[32m━━━━━━━━━━━━━━━━━━━━\u001b[0m\u001b[37m\u001b[0m \u001b[1m0s\u001b[0m 2ms/step - accuracy: 1.0000 - loss: 0.0010 - val_accuracy: 1.0000 - val_loss: 0.0025\n",
      "Epoch 41/50\n",
      "\u001b[1m40/40\u001b[0m \u001b[32m━━━━━━━━━━━━━━━━━━━━\u001b[0m\u001b[37m\u001b[0m \u001b[1m0s\u001b[0m 2ms/step - accuracy: 1.0000 - loss: 9.7241e-04 - val_accuracy: 1.0000 - val_loss: 0.0024\n",
      "Epoch 42/50\n",
      "\u001b[1m40/40\u001b[0m \u001b[32m━━━━━━━━━━━━━━━━━━━━\u001b[0m\u001b[37m\u001b[0m \u001b[1m0s\u001b[0m 2ms/step - accuracy: 1.0000 - loss: 8.8208e-04 - val_accuracy: 1.0000 - val_loss: 0.0023\n",
      "Epoch 43/50\n",
      "\u001b[1m40/40\u001b[0m \u001b[32m━━━━━━━━━━━━━━━━━━━━\u001b[0m\u001b[37m\u001b[0m \u001b[1m0s\u001b[0m 3ms/step - accuracy: 1.0000 - loss: 7.3947e-04 - val_accuracy: 1.0000 - val_loss: 0.0021\n",
      "Epoch 44/50\n",
      "\u001b[1m40/40\u001b[0m \u001b[32m━━━━━━━━━━━━━━━━━━━━\u001b[0m\u001b[37m\u001b[0m \u001b[1m0s\u001b[0m 2ms/step - accuracy: 1.0000 - loss: 7.6259e-04 - val_accuracy: 1.0000 - val_loss: 0.0021\n",
      "Epoch 45/50\n",
      "\u001b[1m40/40\u001b[0m \u001b[32m━━━━━━━━━━━━━━━━━━━━\u001b[0m\u001b[37m\u001b[0m \u001b[1m0s\u001b[0m 2ms/step - accuracy: 1.0000 - loss: 6.2571e-04 - val_accuracy: 1.0000 - val_loss: 0.0019\n",
      "Epoch 46/50\n",
      "\u001b[1m40/40\u001b[0m \u001b[32m━━━━━━━━━━━━━━━━━━━━\u001b[0m\u001b[37m\u001b[0m \u001b[1m0s\u001b[0m 2ms/step - accuracy: 1.0000 - loss: 4.9940e-04 - val_accuracy: 1.0000 - val_loss: 0.0019\n",
      "Epoch 47/50\n",
      "\u001b[1m40/40\u001b[0m \u001b[32m━━━━━━━━━━━━━━━━━━━━\u001b[0m\u001b[37m\u001b[0m \u001b[1m0s\u001b[0m 2ms/step - accuracy: 1.0000 - loss: 6.0111e-04 - val_accuracy: 1.0000 - val_loss: 0.0018\n",
      "Epoch 48/50\n",
      "\u001b[1m40/40\u001b[0m \u001b[32m━━━━━━━━━━━━━━━━━━━━\u001b[0m\u001b[37m\u001b[0m \u001b[1m0s\u001b[0m 2ms/step - accuracy: 1.0000 - loss: 5.2446e-04 - val_accuracy: 1.0000 - val_loss: 0.0017\n",
      "Epoch 49/50\n",
      "\u001b[1m40/40\u001b[0m \u001b[32m━━━━━━━━━━━━━━━━━━━━\u001b[0m\u001b[37m\u001b[0m \u001b[1m0s\u001b[0m 2ms/step - accuracy: 1.0000 - loss: 5.2053e-04 - val_accuracy: 1.0000 - val_loss: 0.0017\n",
      "Epoch 50/50\n",
      "\u001b[1m40/40\u001b[0m \u001b[32m━━━━━━━━━━━━━━━━━━━━\u001b[0m\u001b[37m\u001b[0m \u001b[1m0s\u001b[0m 1ms/step - accuracy: 1.0000 - loss: 5.0632e-04 - val_accuracy: 1.0000 - val_loss: 0.0016\n"
     ]
    }
   ],
   "source": [
    "# Train the model\n",
    "model_history = model.fit(X_train, y_train, epochs=50, batch_size=32, validation_split=0.2, verbose=1, callbacks=[early_stopping]) "
   ]
  },
  {
   "cell_type": "markdown",
   "metadata": {},
   "source": [
    "Evaluate model based on testing data"
   ]
  },
  {
   "cell_type": "code",
   "execution_count": 21,
   "metadata": {},
   "outputs": [
    {
     "name": "stdout",
     "output_type": "stream",
     "text": [
      "\u001b[1m13/13\u001b[0m \u001b[32m━━━━━━━━━━━━━━━━━━━━\u001b[0m\u001b[37m\u001b[0m \u001b[1m0s\u001b[0m 959us/step - accuracy: 1.0000 - loss: 0.0065    \n",
      "Test Accuracy: 1.0\n"
     ]
    }
   ],
   "source": [
    "# Evaluate the model\n",
    "loss, accuracy = model.evaluate(X_test, y_test)\n",
    "print(f\"Test Accuracy: {accuracy}\")"
   ]
  },
  {
   "cell_type": "markdown",
   "metadata": {},
   "source": [
    "Plot learning curve"
   ]
  },
  {
   "cell_type": "code",
   "execution_count": 22,
   "metadata": {},
   "outputs": [
    {
     "data": {
      "image/png": "[encoded data removed]",
      "text/plain": [
       "<Figure size 1000x500 with 1 Axes>"
      ]
     },
     "metadata": {},
     "output_type": "display_data"
    },
    {
     "data": {
      "image/png": "[encoded data removed]",
      "text/plain": [
       "<Figure size 1000x500 with 1 Axes>"
      ]
     },
     "metadata": {},
     "output_type": "display_data"
    }
   ],
   "source": [
    "# Plot the values of training and validation accuracy for NN model\n",
    "plt.figure(figsize=(10, 5))\n",
    "plt.plot(model_history.history['accuracy'])\n",
    "plt.plot(model_history.history['val_accuracy'])\n",
    "plt.title('Model accuracy')\n",
    "plt.ylabel('Accuracy')\n",
    "plt.xlabel('Epoch')\n",
    "plt.legend(['Train', 'Validation'], loc='upper left')\n",
    "plt.show()\n",
    "\n",
    "# Plot the values of training & validation loss for NN model\n",
    "plt.figure(figsize=(10, 5))\n",
    "plt.plot(model_history.history['loss'])\n",
    "plt.plot(model_history.history['val_loss'])\n",
    "plt.title('Model loss')\n",
    "plt.ylabel('Loss')\n",
    "plt.xlabel('Epoch')\n",
    "plt.legend(['Train', 'Validation'], loc='upper left')\n",
    "plt.show()\n"
   ]
  },
  {
   "cell_type": "markdown",
   "metadata": {},
   "source": [
    "Classification report for testing data"
   ]
  },
  {
   "cell_type": "code",
   "execution_count": 23,
   "metadata": {},
   "outputs": [
    {
     "name": "stdout",
     "output_type": "stream",
     "text": [
      "\u001b[1m13/13\u001b[0m \u001b[32m━━━━━━━━━━━━━━━━━━━━\u001b[0m\u001b[37m\u001b[0m \u001b[1m0s\u001b[0m 3ms/step \n",
      "              precision    recall  f1-score   support\n",
      "\n",
      "           0       1.00      1.00      1.00       317\n",
      "           1       1.00      1.00      1.00        83\n",
      "\n",
      "    accuracy                           1.00       400\n",
      "   macro avg       1.00      1.00      1.00       400\n",
      "weighted avg       1.00      1.00      1.00       400\n",
      "\n"
     ]
    }
   ],
   "source": [
    "# print evaluation metrics for testing data\n",
    "# Predict anomalies\n",
    "y_pred = model.predict(X_test)\n",
    "y_pred_labels = (y_pred > 0.5).astype(int)\n",
    "\n",
    "# Additional metrics (e.g., precision, recall, F1 score)\n",
    "from sklearn.metrics import classification_report\n",
    "print(classification_report(y_test, y_pred_labels))"
   ]
  },
  {
   "cell_type": "markdown",
   "metadata": {},
   "source": [
    "Display confusion matrix"
   ]
  },
  {
   "cell_type": "code",
   "execution_count": 24,
   "metadata": {},
   "outputs": [
    {
     "data": {
      "image/png": "[encoded data removed]",
      "text/plain": [
       "<Figure size 640x480 with 2 Axes>"
      ]
     },
     "metadata": {},
     "output_type": "display_data"
    }
   ],
   "source": [
    "# plot confusion matrix for test data\n",
    "from sklearn.metrics import confusion_matrix, ConfusionMatrixDisplay\n",
    "\n",
    "cm = confusion_matrix(y_test, y_pred_labels)\n",
    "\n",
    "# Plot confusion matrix\n",
    "disp = ConfusionMatrixDisplay(confusion_matrix=cm)\n",
    "disp.plot(cmap=plt.cm.Blues)\n",
    "plt.show()"
   ]
  },
  {
   "cell_type": "markdown",
   "metadata": {},
   "source": [
    "Logistic regression model to predict probability for individual cases"
   ]
  },
  {
   "cell_type": "code",
   "execution_count": 40,
   "metadata": {},
   "outputs": [
    {
     "name": "stdout",
     "output_type": "stream",
     "text": [
      "Logistic regression\n",
      "Model Accuracy: 0.96\n",
      "Predicted average anomalous activity on test data: 0.19840078349681944\n",
      "Predicted average non-anomalous activity on test data: 0.8015992165031806\n"
     ]
    }
   ],
   "source": [
    "# calculate probability scores for each class using logistic regression model\n",
    "print('Logistic regression')\n",
    "model = LogisticRegression()\n",
    "model.fit(X_train, y_train)\n",
    "\n",
    "y_pred = model.predict(X_test)\n",
    "\n",
    "accuracy = accuracy_score(y_test, y_pred)\n",
    "print(f\"Model Accuracy: {accuracy}\")\n",
    "\n",
    "# probabilities = model.predict_proba(X)\n",
    "\n",
    "# # top 35 records contains all possible cases for the model\n",
    "# # predict probability for them\n",
    "# prob_df = pd.DataFrame(probabilities, columns=['Anomalous_No', 'Anomalous_Yes'])\n",
    "# result_df = pd.concat([log_df.reset_index(drop=True), prob_df], axis=1)\n",
    "# result_df.to_csv('probability_all_records.csv')\n",
    "# result_df\n",
    "\n",
    "probabilities = model.predict_proba(X_test)\n",
    "\n",
    "prob_df = pd.DataFrame(probabilities, columns=['Anomalous_No', 'Anomalous_Yes'])\n",
    "print('Predicted average anomalous activity on test data:', prob_df['Anomalous_Yes'].mean())\n",
    "print('Predicted average non-anomalous activity on test data:', prob_df['Anomalous_No'].mean())"
   ]
  }
 ],
 "metadata": {
  "kernelspec": {
   "display_name": ".venv",
   "language": "python",
   "name": "python3"
  },
  "language_info": {
   "codemirror_mode": {
    "name": "ipython",
    "version": 3
   },
   "file_extension": ".py",
   "mimetype": "text/x-python",
   "name": "python",
   "nbconvert_exporter": "python",
   "pygments_lexer": "ipython3",
   "version": "3.11.9"
  }
 },
 "nbformat": 4,
 "nbformat_minor": 2
}
